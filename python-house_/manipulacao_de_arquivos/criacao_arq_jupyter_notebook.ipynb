{
 "cells": [
  {
   "cell_type": "code",
   "execution_count": null,
   "metadata": {},
   "outputs": [
    {
     "name": "stdout",
     "output_type": "stream",
     "text": [
      "Overwriting C:/UsersPichau/Downloads/Python/pythons_house/python-house/manipulacao_de_arquivos/arquivos/arquivo_3.txt\n"
     ]
    }
   ],
   "source": [
    "# Dessa forma se pode criar arquivos com jupyter notebook de forma pratica\n",
    "%%writefile \"C:/UsersPichau/Downloads/Python/pythons_house/python-house/manipulacao_de_arquivos/arquivos/arquivo_3.txt\"\n",
    "Este aquivo foi gerado pelo Jupyter Notebook\n",
    "Podemos gerar quantas linhas quisermos e o Jupyter grava no arquivo final"
   ]
  },
  {
   "cell_type": "code",
   "execution_count": 9,
   "metadata": {},
   "outputs": [
    {
     "data": {
      "text/plain": [
       "'Este aquivo foi gerado pelo Jupyter Notebook\\nPodemos gerar quantas linhas quisermos e o Jupyter grava no arquivo final\\n'"
      ]
     },
     "execution_count": 9,
     "metadata": {},
     "output_type": "execute_result"
    }
   ],
   "source": [
    "arq3 = open(\"C:/UsersPichau/Downloads/Python/pythons_house/python-house/manipulacao_de_arquivos/arquivos/arquivo_3.txt\", \"r\")\n",
    "arq3.read()"
   ]
  },
  {
   "cell_type": "code",
   "execution_count": 10,
   "metadata": {},
   "outputs": [
    {
     "data": {
      "text/plain": [
       "'Este aquivo foi gerado pelo Jupyter Notebook\\nPodemos gerar quantas linhas quisermos e o Jupyter grava no arquivo final\\n'"
      ]
     },
     "execution_count": 10,
     "metadata": {},
     "output_type": "execute_result"
    }
   ],
   "source": [
    "arq3.seek(0)\n",
    "arq3.read()"
   ]
  },
  {
   "cell_type": "code",
   "execution_count": 12,
   "metadata": {},
   "outputs": [
    {
     "name": "stdout",
     "output_type": "stream",
     "text": [
      "Este aquivo foi gerado pelo Jupyter Notebook\n",
      "\n",
      "Podemos gerar quantas linhas quisermos e o Jupyter grava no arquivo final\n",
      "\n"
     ]
    }
   ],
   "source": [
    "# este modo imprime linha por linha do conteudo do arquivo\n",
    "for line in open(\"C:/UsersPichau/Downloads/Python/pythons_house/python-house/manipulacao_de_arquivos/arquivos/arquivo_3.txt\"):\n",
    "    print(line)"
   ]
  }
 ],
 "metadata": {
  "kernelspec": {
   "display_name": "Python 3",
   "language": "python",
   "name": "python3"
  },
  "language_info": {
   "codemirror_mode": {
    "name": "ipython",
    "version": 3
   },
   "file_extension": ".py",
   "mimetype": "text/x-python",
   "name": "python",
   "nbconvert_exporter": "python",
   "pygments_lexer": "ipython3",
   "version": "3.11.9"
  }
 },
 "nbformat": 4,
 "nbformat_minor": 2
}
